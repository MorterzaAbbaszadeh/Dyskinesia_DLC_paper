{
 "cells": [
  {
   "cell_type": "code",
   "execution_count": null,
   "metadata": {},
   "outputs": [],
   "source": [
    "import numpy as np\n",
    "import pandas as pd\n",
    "import seaborn as sns\n",
    "\n",
    "\n",
    "import sys\n",
    "sys.path.insert(1, r'C:\\dlc_projects\\Analysis\\git_repo\\util')\n",
    "import single_ts as ts\n",
    "from iteration import dlc_iter\n",
    "from kinematics import dlc_kinematics\n",
    "\n",
    "\n",
    "\n",
    "\n",
    "\n",
    "\n",
    "fetch=ts.dlc_ts()\n",
    "kin=dlc_kinematics()\n",
    "iter=dlc_iter()"
   ]
  },
  {
   "cell_type": "code",
   "execution_count": null,
   "metadata": {},
   "outputs": [],
   "source": [
    "evaluate=['LID']\n",
    "fetch.treatments=evaluate\n",
    "file=r'C:\\dlc_projects\\Analysis\\Currencodes\\DLC_refact\\d_base\\d_base.npy'\n",
    "dct=fetch.get_treatments(file)\n",
    "\n",
    "\n",
    "animal_ID=4\n",
    "time_point=30\n",
    "lower_cut=500\n",
    "upper_cut=2500\n",
    "fps=50\n",
    "\n",
    "#print(dct[list(dct.keys())][ID_n])\n",
    "head_ang, ar, rot_speed, translate=fetch.time_srs(dct, animal_ID, time_point)\n",
    "\n",
    "time=np.linspace(0,upper_cut-lower_cut, upper_cut-lower_cut)/fps\n"
   ]
  }
 ],
 "metadata": {
  "kernelspec": {
   "display_name": "Python 3.9.12 ('base')",
   "language": "python",
   "name": "python3"
  },
  "language_info": {
   "name": "python",
   "version": "3.9.12"
  },
  "orig_nbformat": 4,
  "vscode": {
   "interpreter": {
    "hash": "6f92cb083152777afd62df578ee25c27a6535a458ee361b28317fcb89bd6b9a8"
   }
  }
 },
 "nbformat": 4,
 "nbformat_minor": 2
}
