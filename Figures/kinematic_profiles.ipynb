{
 "cells": [
  {
   "cell_type": "markdown",
   "metadata": {},
   "source": [
    "                                #This notebook provides the pharamcokinetic profiles for the DLC paper"
   ]
  },
  {
   "cell_type": "code",
   "execution_count": 4,
   "metadata": {},
   "outputs": [],
   "source": [
    "#initialize\n",
    "\n",
    "#global\n",
    "import numpy as np\n",
    "import pandas as pd\n",
    "import seaborn as sns\n",
    "import matplotlib.pyplot as plt\n",
    "\n",
    "\n",
    "#local\n",
    "from sys import path\n",
    "path.insert(1, r'C:\\dlc_projects\\Analysis\\git_repo\\util')\n",
    "\n",
    "from iteration import dlc_iter\n",
    "from kinematics import dlc_kinematics\n",
    "from visualization_config import visual_config\n",
    "\n",
    "\n",
    "#class init\n",
    "kinematic=dlc_kinematics() \n",
    "iter=dlc_iter()\n",
    "visual_config=visual_config()\n"
   ]
  },
  {
   "cell_type": "code",
   "execution_count": 12,
   "metadata": {},
   "outputs": [
    {
     "data": {
      "text/html": [
       "<div>\n",
       "<style scoped>\n",
       "    .dataframe tbody tr th:only-of-type {\n",
       "        vertical-align: middle;\n",
       "    }\n",
       "\n",
       "    .dataframe tbody tr th {\n",
       "        vertical-align: top;\n",
       "    }\n",
       "\n",
       "    .dataframe thead th {\n",
       "        text-align: right;\n",
       "    }\n",
       "</style>\n",
       "<table border=\"1\" class=\"dataframe\">\n",
       "  <thead>\n",
       "    <tr style=\"text-align: right;\">\n",
       "      <th></th>\n",
       "      <th>npy_ar</th>\n",
       "      <th>npy_rot_speed</th>\n",
       "      <th>npy_thet_head</th>\n",
       "      <th>npy_translation</th>\n",
       "      <th>time</th>\n",
       "      <th>treatment</th>\n",
       "      <th>id</th>\n",
       "    </tr>\n",
       "  </thead>\n",
       "  <tbody>\n",
       "    <tr>\n",
       "      <th>0</th>\n",
       "      <td>83.108069</td>\n",
       "      <td>0.065668</td>\n",
       "      <td>17.321899</td>\n",
       "      <td>1.203652</td>\n",
       "      <td>10</td>\n",
       "      <td>LID</td>\n",
       "      <td>21_LID</td>\n",
       "    </tr>\n",
       "    <tr>\n",
       "      <th>1</th>\n",
       "      <td>34.026610</td>\n",
       "      <td>-0.607196</td>\n",
       "      <td>57.993878</td>\n",
       "      <td>1.355257</td>\n",
       "      <td>20</td>\n",
       "      <td>LID</td>\n",
       "      <td>21_LID</td>\n",
       "    </tr>\n",
       "    <tr>\n",
       "      <th>2</th>\n",
       "      <td>42.953013</td>\n",
       "      <td>-1.773132</td>\n",
       "      <td>63.203399</td>\n",
       "      <td>2.647974</td>\n",
       "      <td>30</td>\n",
       "      <td>LID</td>\n",
       "      <td>21_LID</td>\n",
       "    </tr>\n",
       "    <tr>\n",
       "      <th>3</th>\n",
       "      <td>44.482264</td>\n",
       "      <td>-1.157082</td>\n",
       "      <td>60.308936</td>\n",
       "      <td>1.816424</td>\n",
       "      <td>40</td>\n",
       "      <td>LID</td>\n",
       "      <td>21_LID</td>\n",
       "    </tr>\n",
       "    <tr>\n",
       "      <th>4</th>\n",
       "      <td>71.670945</td>\n",
       "      <td>-0.437107</td>\n",
       "      <td>35.034086</td>\n",
       "      <td>1.959103</td>\n",
       "      <td>50</td>\n",
       "      <td>LID</td>\n",
       "      <td>21_LID</td>\n",
       "    </tr>\n",
       "  </tbody>\n",
       "</table>\n",
       "</div>"
      ],
      "text/plain": [
       "      npy_ar  npy_rot_speed  npy_thet_head  npy_translation time treatment  \\\n",
       "0  83.108069       0.065668      17.321899         1.203652   10       LID   \n",
       "1  34.026610      -0.607196      57.993878         1.355257   20       LID   \n",
       "2  42.953013      -1.773132      63.203399         2.647974   30       LID   \n",
       "3  44.482264      -1.157082      60.308936         1.816424   40       LID   \n",
       "4  71.670945      -0.437107      35.034086         1.959103   50       LID   \n",
       "\n",
       "       id  \n",
       "0  21_LID  \n",
       "1  21_LID  \n",
       "2  21_LID  \n",
       "3  21_LID  \n",
       "4  21_LID  "
      ]
     },
     "execution_count": 12,
     "metadata": {},
     "output_type": "execute_result"
    }
   ],
   "source": [
    "# process dataset\n",
    "file=r'C:\\dlc_projects\\Analysis\\Currencodes\\DLC_refact\\d_base\\d_base.npy'\n",
    "#the main groups\n",
    "groups=['LID', 'SKF', 'SUM']\n",
    "\n",
    "\n",
    "\n",
    "#load variables and for a dataframe with mean values of each treatment in each recording time after \n",
    "funcs= (kinematic.npy_ar, kinematic.npy_rot_speed, kinematic.npy_thet_head, kinematic.npy_translation)\n",
    "df_ready=iter.get_sns(file, groups, funcs)\n",
    "k_df=pd.DataFrame(df_ready, columns=[i.__name__ for i in funcs]+['time','treatment','id']).dropna()\n",
    "np.unique(k_df.treatment)"
   ]
  },
  {
   "cell_type": "code",
   "execution_count": null,
   "metadata": {},
   "outputs": [],
   "source": [
    "\n",
    "\n",
    "#convert the drug names to functional tags\n",
    "k_df['treatment'] = k_df['treatment'].replace(['SKF'],'D1Ag', inplace=True)\n",
    "k_df['treatment'] = k_df['treatment'].replace(['SUM'],'D2Ag', inplace=True)\n",
    "k_df['treatment'] = k_df['treatment'].replace(['LID'],'LD-3mg', inplace=True)\n",
    "k_df.head()"
   ]
  },
  {
   "cell_type": "markdown",
   "metadata": {},
   "source": [
    "                                                '''       Boxplots      '''"
   ]
  },
  {
   "cell_type": "code",
   "execution_count": 10,
   "metadata": {},
   "outputs": [
    {
     "ename": "ValueError",
     "evalue": "min() arg is an empty sequence",
     "output_type": "error",
     "traceback": [
      "\u001b[1;31m---------------------------------------------------------------------------\u001b[0m",
      "\u001b[1;31mValueError\u001b[0m                                Traceback (most recent call last)",
      "\u001b[1;32mc:\\dlc_projects\\Analysis\\git_repo\\Figures\\kinematic_profiles.ipynb Cell 5\u001b[0m in \u001b[0;36m<cell line: 1>\u001b[1;34m()\u001b[0m\n\u001b[1;32m----> <a href='vscode-notebook-cell:/c%3A/dlc_projects/Analysis/git_repo/Figures/kinematic_profiles.ipynb#W4sZmlsZQ%3D%3D?line=0'>1</a>\u001b[0m ax\u001b[39m=\u001b[39msns\u001b[39m.\u001b[39;49mboxplot(x\u001b[39m=\u001b[39;49m\u001b[39m'\u001b[39;49m\u001b[39mtime\u001b[39;49m\u001b[39m'\u001b[39;49m, y\u001b[39m=\u001b[39;49m\u001b[39m'\u001b[39;49m\u001b[39mnpy_ar\u001b[39;49m\u001b[39m'\u001b[39;49m, hue\u001b[39m=\u001b[39;49m\u001b[39m'\u001b[39;49m\u001b[39mtreatment\u001b[39;49m\u001b[39m'\u001b[39;49m, data\u001b[39m=\u001b[39;49mk_df, showfliers\u001b[39m=\u001b[39;49m\u001b[39mFalse\u001b[39;49;00m, palette\u001b[39m=\u001b[39;49mvisual_config\u001b[39m.\u001b[39;49mtreatment_colors)\n\u001b[0;32m      <a href='vscode-notebook-cell:/c%3A/dlc_projects/Analysis/git_repo/Figures/kinematic_profiles.ipynb#W4sZmlsZQ%3D%3D?line=2'>3</a>\u001b[0m xlabel\u001b[39m=\u001b[39m\u001b[39m'\u001b[39m\u001b[39mTime after treatment(Min)\u001b[39m\u001b[39m'\u001b[39m\n\u001b[0;32m      <a href='vscode-notebook-cell:/c%3A/dlc_projects/Analysis/git_repo/Figures/kinematic_profiles.ipynb#W4sZmlsZQ%3D%3D?line=3'>4</a>\u001b[0m ylabel\u001b[39m=\u001b[39m\u001b[39m'\u001b[39m\u001b[39mMain body length (norm)\u001b[39m\u001b[39m'\u001b[39m\n",
      "File \u001b[1;32mc:\\Users\\Morteza\\anaconda3\\lib\\site-packages\\seaborn\\_decorators.py:46\u001b[0m, in \u001b[0;36m_deprecate_positional_args.<locals>.inner_f\u001b[1;34m(*args, **kwargs)\u001b[0m\n\u001b[0;32m     36\u001b[0m     warnings\u001b[39m.\u001b[39mwarn(\n\u001b[0;32m     37\u001b[0m         \u001b[39m\"\u001b[39m\u001b[39mPass the following variable\u001b[39m\u001b[39m{}\u001b[39;00m\u001b[39m as \u001b[39m\u001b[39m{}\u001b[39;00m\u001b[39mkeyword arg\u001b[39m\u001b[39m{}\u001b[39;00m\u001b[39m: \u001b[39m\u001b[39m{}\u001b[39;00m\u001b[39m. \u001b[39m\u001b[39m\"\u001b[39m\n\u001b[0;32m     38\u001b[0m         \u001b[39m\"\u001b[39m\u001b[39mFrom version 0.12, the only valid positional argument \u001b[39m\u001b[39m\"\u001b[39m\n\u001b[1;32m   (...)\u001b[0m\n\u001b[0;32m     43\u001b[0m         \u001b[39mFutureWarning\u001b[39;00m\n\u001b[0;32m     44\u001b[0m     )\n\u001b[0;32m     45\u001b[0m kwargs\u001b[39m.\u001b[39mupdate({k: arg \u001b[39mfor\u001b[39;00m k, arg \u001b[39min\u001b[39;00m \u001b[39mzip\u001b[39m(sig\u001b[39m.\u001b[39mparameters, args)})\n\u001b[1;32m---> 46\u001b[0m \u001b[39mreturn\u001b[39;00m f(\u001b[39m*\u001b[39m\u001b[39m*\u001b[39mkwargs)\n",
      "File \u001b[1;32mc:\\Users\\Morteza\\anaconda3\\lib\\site-packages\\seaborn\\categorical.py:2243\u001b[0m, in \u001b[0;36mboxplot\u001b[1;34m(x, y, hue, data, order, hue_order, orient, color, palette, saturation, width, dodge, fliersize, linewidth, whis, ax, **kwargs)\u001b[0m\n\u001b[0;32m   2231\u001b[0m \u001b[39m@_deprecate_positional_args\u001b[39m\n\u001b[0;32m   2232\u001b[0m \u001b[39mdef\u001b[39;00m \u001b[39mboxplot\u001b[39m(\n\u001b[0;32m   2233\u001b[0m     \u001b[39m*\u001b[39m,\n\u001b[1;32m   (...)\u001b[0m\n\u001b[0;32m   2240\u001b[0m     \u001b[39m*\u001b[39m\u001b[39m*\u001b[39mkwargs\n\u001b[0;32m   2241\u001b[0m ):\n\u001b[1;32m-> 2243\u001b[0m     plotter \u001b[39m=\u001b[39m _BoxPlotter(x, y, hue, data, order, hue_order,\n\u001b[0;32m   2244\u001b[0m                           orient, color, palette, saturation,\n\u001b[0;32m   2245\u001b[0m                           width, dodge, fliersize, linewidth)\n\u001b[0;32m   2247\u001b[0m     \u001b[39mif\u001b[39;00m ax \u001b[39mis\u001b[39;00m \u001b[39mNone\u001b[39;00m:\n\u001b[0;32m   2248\u001b[0m         ax \u001b[39m=\u001b[39m plt\u001b[39m.\u001b[39mgca()\n",
      "File \u001b[1;32mc:\\Users\\Morteza\\anaconda3\\lib\\site-packages\\seaborn\\categorical.py:407\u001b[0m, in \u001b[0;36m_BoxPlotter.__init__\u001b[1;34m(self, x, y, hue, data, order, hue_order, orient, color, palette, saturation, width, dodge, fliersize, linewidth)\u001b[0m\n\u001b[0;32m    402\u001b[0m \u001b[39mdef\u001b[39;00m \u001b[39m__init__\u001b[39m(\u001b[39mself\u001b[39m, x, y, hue, data, order, hue_order,\n\u001b[0;32m    403\u001b[0m              orient, color, palette, saturation,\n\u001b[0;32m    404\u001b[0m              width, dodge, fliersize, linewidth):\n\u001b[0;32m    406\u001b[0m     \u001b[39mself\u001b[39m\u001b[39m.\u001b[39mestablish_variables(x, y, hue, data, orient, order, hue_order)\n\u001b[1;32m--> 407\u001b[0m     \u001b[39mself\u001b[39;49m\u001b[39m.\u001b[39;49mestablish_colors(color, palette, saturation)\n\u001b[0;32m    409\u001b[0m     \u001b[39mself\u001b[39m\u001b[39m.\u001b[39mdodge \u001b[39m=\u001b[39m dodge\n\u001b[0;32m    410\u001b[0m     \u001b[39mself\u001b[39m\u001b[39m.\u001b[39mwidth \u001b[39m=\u001b[39m width\n",
      "File \u001b[1;32mc:\\Users\\Morteza\\anaconda3\\lib\\site-packages\\seaborn\\categorical.py:319\u001b[0m, in \u001b[0;36m_CategoricalPlotter.establish_colors\u001b[1;34m(self, color, palette, saturation)\u001b[0m\n\u001b[0;32m    317\u001b[0m \u001b[39m# Determine the gray color to use for the lines framing the plot\u001b[39;00m\n\u001b[0;32m    318\u001b[0m light_vals \u001b[39m=\u001b[39m [colorsys\u001b[39m.\u001b[39mrgb_to_hls(\u001b[39m*\u001b[39mc)[\u001b[39m1\u001b[39m] \u001b[39mfor\u001b[39;00m c \u001b[39min\u001b[39;00m rgb_colors]\n\u001b[1;32m--> 319\u001b[0m lum \u001b[39m=\u001b[39m \u001b[39mmin\u001b[39;49m(light_vals) \u001b[39m*\u001b[39m \u001b[39m.6\u001b[39m\n\u001b[0;32m    320\u001b[0m gray \u001b[39m=\u001b[39m mpl\u001b[39m.\u001b[39mcolors\u001b[39m.\u001b[39mrgb2hex((lum, lum, lum))\n\u001b[0;32m    322\u001b[0m \u001b[39m# Assign object attributes\u001b[39;00m\n",
      "\u001b[1;31mValueError\u001b[0m: min() arg is an empty sequence"
     ]
    }
   ],
   "source": [
    "\n",
    "ax=sns.boxplot(x='time', y='npy_ar', hue='treatment', data=k_df, showfliers=False, palette=visual_config.treatment_colors)\n",
    "\n",
    "xlabel='Time after treatment(Min)'\n",
    "ylabel='Main body length (norm)'\n",
    "\n",
    "\n",
    "ax=visual_config.kinematic_box(ax, xlabel, ylabel, font=visual_config.label_font, legend=False)\n",
    "\n",
    "plt.draw()"
   ]
  }
 ],
 "metadata": {
  "kernelspec": {
   "display_name": "Python 3.9.12 ('base')",
   "language": "python",
   "name": "python3"
  },
  "language_info": {
   "codemirror_mode": {
    "name": "ipython",
    "version": 3
   },
   "file_extension": ".py",
   "mimetype": "text/x-python",
   "name": "python",
   "nbconvert_exporter": "python",
   "pygments_lexer": "ipython3",
   "version": "3.9.12"
  },
  "orig_nbformat": 4,
  "vscode": {
   "interpreter": {
    "hash": "6f92cb083152777afd62df578ee25c27a6535a458ee361b28317fcb89bd6b9a8"
   }
  }
 },
 "nbformat": 4,
 "nbformat_minor": 2
}
