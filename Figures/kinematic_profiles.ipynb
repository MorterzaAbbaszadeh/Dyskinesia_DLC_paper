{
 "cells": [
  {
   "cell_type": "markdown",
   "metadata": {},
   "source": [
    "                                #This notebook provides the pharamcokinetic profiles for the DLC paper"
   ]
  },
  {
   "cell_type": "code",
   "execution_count": 1,
   "metadata": {},
   "outputs": [],
   "source": [
    "#initialize\n",
    "\n",
    "#global\n",
    "import numpy as np\n",
    "import pandas as pd\n",
    "import seaborn as sns\n",
    "import matplotlib.pyplot as plt\n",
    "\n",
    "\n",
    "#local\n",
    "from sys import path\n",
    "path.insert(1, r'C:\\dlc_projects\\Analysis\\git_repo\\util')\n",
    "\n",
    "from iteration import dlc_iter\n",
    "from kinematics import dlc_kinematics\n",
    "from visualization_config import visual_config\n",
    "\n",
    "\n",
    "#class init\n",
    "kinematic=dlc_kinematics() \n",
    "iter=dlc_iter()\n",
    "visual_config=visual_config()\n"
   ]
  },
  {
   "cell_type": "code",
   "execution_count": 8,
   "metadata": {},
   "outputs": [
    {
     "data": {
      "text/html": [
       "<div>\n",
       "<style scoped>\n",
       "    .dataframe tbody tr th:only-of-type {\n",
       "        vertical-align: middle;\n",
       "    }\n",
       "\n",
       "    .dataframe tbody tr th {\n",
       "        vertical-align: top;\n",
       "    }\n",
       "\n",
       "    .dataframe thead th {\n",
       "        text-align: right;\n",
       "    }\n",
       "</style>\n",
       "<table border=\"1\" class=\"dataframe\">\n",
       "  <thead>\n",
       "    <tr style=\"text-align: right;\">\n",
       "      <th></th>\n",
       "      <th>npy_ar</th>\n",
       "      <th>npy_rot_speed</th>\n",
       "      <th>npy_thet_head</th>\n",
       "      <th>npy_translation</th>\n",
       "      <th>time</th>\n",
       "      <th>treatment</th>\n",
       "      <th>id</th>\n",
       "    </tr>\n",
       "  </thead>\n",
       "  <tbody>\n",
       "    <tr>\n",
       "      <th>0</th>\n",
       "      <td>44.662458</td>\n",
       "      <td>-0.283585</td>\n",
       "      <td>58.346994</td>\n",
       "      <td>0.935019</td>\n",
       "      <td>10</td>\n",
       "      <td>D1A</td>\n",
       "      <td>26_D1A</td>\n",
       "    </tr>\n",
       "    <tr>\n",
       "      <th>1</th>\n",
       "      <td>80.665364</td>\n",
       "      <td>-1.128049</td>\n",
       "      <td>19.085853</td>\n",
       "      <td>1.652977</td>\n",
       "      <td>100</td>\n",
       "      <td>D1A</td>\n",
       "      <td>26_D1A</td>\n",
       "    </tr>\n",
       "    <tr>\n",
       "      <th>2</th>\n",
       "      <td>46.535674</td>\n",
       "      <td>-0.309196</td>\n",
       "      <td>52.895482</td>\n",
       "      <td>0.950996</td>\n",
       "      <td>20</td>\n",
       "      <td>D1A</td>\n",
       "      <td>26_D1A</td>\n",
       "    </tr>\n",
       "    <tr>\n",
       "      <th>3</th>\n",
       "      <td>45.355266</td>\n",
       "      <td>-0.239663</td>\n",
       "      <td>50.660065</td>\n",
       "      <td>0.882327</td>\n",
       "      <td>30</td>\n",
       "      <td>D1A</td>\n",
       "      <td>26_D1A</td>\n",
       "    </tr>\n",
       "    <tr>\n",
       "      <th>4</th>\n",
       "      <td>47.055633</td>\n",
       "      <td>-0.161912</td>\n",
       "      <td>48.113917</td>\n",
       "      <td>0.881105</td>\n",
       "      <td>40</td>\n",
       "      <td>D1A</td>\n",
       "      <td>26_D1A</td>\n",
       "    </tr>\n",
       "  </tbody>\n",
       "</table>\n",
       "</div>"
      ],
      "text/plain": [
       "      npy_ar  npy_rot_speed  npy_thet_head  npy_translation time treatment  \\\n",
       "0  44.662458      -0.283585      58.346994         0.935019   10       D1A   \n",
       "1  80.665364      -1.128049      19.085853         1.652977  100       D1A   \n",
       "2  46.535674      -0.309196      52.895482         0.950996   20       D1A   \n",
       "3  45.355266      -0.239663      50.660065         0.882327   30       D1A   \n",
       "4  47.055633      -0.161912      48.113917         0.881105   40       D1A   \n",
       "\n",
       "       id  \n",
       "0  26_D1A  \n",
       "1  26_D1A  \n",
       "2  26_D1A  \n",
       "3  26_D1A  \n",
       "4  26_D1A  "
      ]
     },
     "execution_count": 8,
     "metadata": {},
     "output_type": "execute_result"
    }
   ],
   "source": [
    "# process dataset\n",
    "file=r'C:\\dlc_projects\\Analysis\\Currencodes\\DLC_refact\\d_base\\d_base.npy'\n",
    "#the main groups\n",
    "groups=['LID', 'SKF', 'SUM', 'D1A', 'D2A']\n",
    "\n",
    "\n",
    "\n",
    "#load variables and for a dataframe with mean values of each treatment in each recording time after \n",
    "funcs= (kinematic.npy_ar, kinematic.npy_rot_speed, kinematic.npy_thet_head, kinematic.npy_translation)\n",
    "df_ready=iter.get_sns(file, groups, funcs)\n",
    "k_df=pd.DataFrame(df_ready, columns=[i.__name__ for i in funcs]+['time','treatment','id']).dropna()\n",
    "\n",
    "\n",
    "k_df.replace({'treatment' : { 'SKF' : 'D1Ag',  'SUM' :'D2Ag',\n",
    "\n",
    "                       'LID':'LD-3mg' }}, inplace=True)\n",
    "\n",
    "k_df.head()\n"
   ]
  },
  {
   "cell_type": "markdown",
   "metadata": {},
   "source": [
    "                                                '''       Boxplots      '''"
   ]
  },
  {
   "cell_type": "code",
   "execution_count": 23,
   "metadata": {},
   "outputs": [],
   "source": [
    "#specify treatment groups\n",
    "\n",
    "dataframe=k_df[k_df['treatment'].isin(['D1Ag', 'LD-3mg', 'D2Ag'])]"
   ]
  },
  {
   "cell_type": "code",
   "execution_count": 24,
   "metadata": {},
   "outputs": [
    {
     "data": {
      "image/png": "[encoded data removed]",
      "text/plain": [
       "<Figure size 432x288 with 1 Axes>"
      ]
     },
     "metadata": {
      "needs_background": "light"
     },
     "output_type": "display_data"
    }
   ],
   "source": [
    "\n",
    "ax=sns.boxplot(x='time', y='npy_ar', hue='treatment', data=dataframe, showfliers=False, palette=visual_config.treatment_colors)\n",
    "\n",
    "\n",
    "xlabel='Time after treatment(Min)'\n",
    "ylabel='Main body length (norm)'\n",
    "\n",
    "\n",
    "ax=visual_config.kinematic_box(ax, xlabel, ylabel, legend=False)\n",
    "plt.draw()"
   ]
  },
  {
   "cell_type": "code",
   "execution_count": 4,
   "metadata": {},
   "outputs": [
    {
     "data": {
      "image/png": "[encoded data removed]",
      "text/plain": [
       "<Figure size 432x288 with 1 Axes>"
      ]
     },
     "metadata": {
      "needs_background": "light"
     },
     "output_type": "display_data"
    }
   ],
   "source": [
    "ax=sns.boxplot(x='time', y='npy_rot_speed', hue='treatment', data=dataframe, showfliers=False, palette=visual_config.treatment_colors)\n",
    "\n",
    "\n",
    "xlabel='Time after treatment(Min)'\n",
    "ylabel='Rotational Speed (rad/s)'\n",
    "\n",
    "\n",
    "ax=visual_config.kinematic_box(ax, xlabel, ylabel, legend=False)\n",
    "plt.draw()"
   ]
  },
  {
   "cell_type": "code",
   "execution_count": 6,
   "metadata": {},
   "outputs": [
    {
     "data": {
      "image/png": "[encoded data removed]",
      "text/plain": [
       "<Figure size 432x288 with 1 Axes>"
      ]
     },
     "metadata": {
      "needs_background": "light"
     },
     "output_type": "display_data"
    }
   ],
   "source": [
    "ax=sns.boxplot(x='time', y='npy_thet_head', hue='treatment', data=dataframe, showfliers=False, palette=visual_config.treatment_colors)\n",
    "\n",
    "\n",
    "xlabel='Time after treatment(Min)'\n",
    "ylabel='Head Angle (deg)'\n",
    "\n",
    "\n",
    "ax=visual_config.kinematic_box(ax, xlabel, ylabel, legend=visual_config.legend)\n",
    "plt.draw()"
   ]
  },
  {
   "cell_type": "code",
   "execution_count": null,
   "metadata": {},
   "outputs": [],
   "source": [
    "\n"
   ]
  }
 ],
 "metadata": {
  "kernelspec": {
   "display_name": "Python 3.9.12 ('base')",
   "language": "python",
   "name": "python3"
  },
  "language_info": {
   "codemirror_mode": {
    "name": "ipython",
    "version": 3
   },
   "file_extension": ".py",
   "mimetype": "text/x-python",
   "name": "python",
   "nbconvert_exporter": "python",
   "pygments_lexer": "ipython3",
   "version": "3.9.12"
  },
  "orig_nbformat": 4,
  "vscode": {
   "interpreter": {
    "hash": "6f92cb083152777afd62df578ee25c27a6535a458ee361b28317fcb89bd6b9a8"
   }
  }
 },
 "nbformat": 4,
 "nbformat_minor": 2
}
