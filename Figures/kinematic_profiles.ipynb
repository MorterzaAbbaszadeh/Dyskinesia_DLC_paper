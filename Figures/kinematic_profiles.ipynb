{
 "cells": [
  {
   "cell_type": "markdown",
   "metadata": {},
   "source": [
    "                                #This notebook provides the pharamcokinetic profiles for the DLC paper"
   ]
  },
  {
   "cell_type": "code",
   "execution_count": 11,
   "metadata": {},
   "outputs": [],
   "source": [
    "#initialize\n",
    "\n",
    "#global\n",
    "import numpy as np\n",
    "import pandas as pd\n",
    "import seaborn as sns\n",
    "\n",
    "#local\n",
    "from sys import path\n",
    "path.insert(1, r'C:\\dlc_projects\\Analysis\\git_repo')\n",
    "\n",
    "from iteration import dlc_iter\n",
    "from kinematics import dlc_kinematics\n",
    "\n",
    "\n",
    "#class init\n",
    "kinematic=dlc_kinematics() \n",
    "iter=dlc_iter()\n"
   ]
  },
  {
   "cell_type": "code",
   "execution_count": 15,
   "metadata": {},
   "outputs": [
    {
     "ename": "FileNotFoundError",
     "evalue": "[Errno 2] No such file or directory: '\\\\data\\\\d_base.npy'",
     "output_type": "error",
     "traceback": [
      "\u001b[1;31m---------------------------------------------------------------------------\u001b[0m",
      "\u001b[1;31mFileNotFoundError\u001b[0m                         Traceback (most recent call last)",
      "\u001b[1;32mc:\\dlc_projects\\Analysis\\git_repo\\Figures\\kinematic_profiles.ipynb Cell 3\u001b[0m in \u001b[0;36m<cell line: 11>\u001b[1;34m()\u001b[0m\n\u001b[0;32m      <a href='vscode-notebook-cell:/c%3A/dlc_projects/Analysis/git_repo/Figures/kinematic_profiles.ipynb#W5sZmlsZQ%3D%3D?line=8'>9</a>\u001b[0m \u001b[39m#load variables and for a dataframe with mean values of each treatment in each recording time after \u001b[39;00m\n\u001b[0;32m     <a href='vscode-notebook-cell:/c%3A/dlc_projects/Analysis/git_repo/Figures/kinematic_profiles.ipynb#W5sZmlsZQ%3D%3D?line=9'>10</a>\u001b[0m funcs\u001b[39m=\u001b[39m (kinematic\u001b[39m.\u001b[39mnpy_ar, kinematic\u001b[39m.\u001b[39mnpy_rot_speed, kinematic\u001b[39m.\u001b[39mnpy_thet_head, kinematic\u001b[39m.\u001b[39mnpy_translation)\n\u001b[1;32m---> <a href='vscode-notebook-cell:/c%3A/dlc_projects/Analysis/git_repo/Figures/kinematic_profiles.ipynb#W5sZmlsZQ%3D%3D?line=10'>11</a>\u001b[0m df_ready\u001b[39m=\u001b[39m\u001b[39miter\u001b[39;49m\u001b[39m.\u001b[39;49mget_sns(file, groups, funcs)\n\u001b[0;32m     <a href='vscode-notebook-cell:/c%3A/dlc_projects/Analysis/git_repo/Figures/kinematic_profiles.ipynb#W5sZmlsZQ%3D%3D?line=11'>12</a>\u001b[0m k_df\u001b[39m=\u001b[39mpd\u001b[39m.\u001b[39mDataFrame(df_ready, columns\u001b[39m=\u001b[39m[i\u001b[39m.\u001b[39m\u001b[39m__name__\u001b[39m \u001b[39mfor\u001b[39;00m i \u001b[39min\u001b[39;00m funcs]\u001b[39m+\u001b[39m[\u001b[39m'\u001b[39m\u001b[39mtime\u001b[39m\u001b[39m'\u001b[39m,\u001b[39m'\u001b[39m\u001b[39mtreatment\u001b[39m\u001b[39m'\u001b[39m,\u001b[39m'\u001b[39m\u001b[39mid\u001b[39m\u001b[39m'\u001b[39m])\u001b[39m.\u001b[39mdropna()\n\u001b[0;32m     <a href='vscode-notebook-cell:/c%3A/dlc_projects/Analysis/git_repo/Figures/kinematic_profiles.ipynb#W5sZmlsZQ%3D%3D?line=14'>15</a>\u001b[0m \u001b[39m#convert the drug names to functional tags\u001b[39;00m\n",
      "File \u001b[1;32mC:\\dlc_projects\\Analysis\\git_repo\\util\\iteration.py:103\u001b[0m, in \u001b[0;36mdlc_iter.get_sns\u001b[1;34m(self, file, groups, funcs)\u001b[0m\n\u001b[0;32m    101\u001b[0m \u001b[39mdef\u001b[39;00m \u001b[39mget_sns\u001b[39m(\u001b[39mself\u001b[39m, file, groups, funcs):\n\u001b[0;32m    102\u001b[0m     \u001b[39mself\u001b[39m\u001b[39m.\u001b[39mtreatments\u001b[39m=\u001b[39mgroups\n\u001b[1;32m--> 103\u001b[0m     \u001b[39mreturn\u001b[39;00m \u001b[39mself\u001b[39m\u001b[39m.\u001b[39mtime_iter(\u001b[39mself\u001b[39;49m\u001b[39m.\u001b[39;49mget_treatments(file), funcs)\n",
      "File \u001b[1;32mC:\\dlc_projects\\Analysis\\git_repo\\util\\iteration.py:38\u001b[0m, in \u001b[0;36mdlc_iter.get_treatments\u001b[1;34m(self, file)\u001b[0m\n\u001b[0;32m     36\u001b[0m \u001b[39mdef\u001b[39;00m \u001b[39mget_treatments\u001b[39m(\u001b[39mself\u001b[39m, file):\n\u001b[1;32m---> 38\u001b[0m     \u001b[39mwith\u001b[39;00m \u001b[39mopen\u001b[39;49m(file, \u001b[39m'\u001b[39;49m\u001b[39mrb\u001b[39;49m\u001b[39m'\u001b[39;49m) \u001b[39mas\u001b[39;00m f:\n\u001b[0;32m     39\u001b[0m         dct\u001b[39m=\u001b[39mnp\u001b[39m.\u001b[39mload(f, allow_pickle\u001b[39m=\u001b[39m\u001b[39mTrue\u001b[39;00m)\u001b[39m.\u001b[39mitem()\n\u001b[0;32m     41\u001b[0m     \u001b[39mfor\u001b[39;00m ky \u001b[39min\u001b[39;00m \u001b[39mlist\u001b[39m(dct\u001b[39m.\u001b[39mkeys()):\n",
      "\u001b[1;31mFileNotFoundError\u001b[0m: [Errno 2] No such file or directory: '\\\\data\\\\d_base.npy'"
     ]
    }
   ],
   "source": [
    "# process dataset\n",
    "\n",
    "file=r'C:\\dlc_projects\\Analysis\\Currencodes\\DLC_refact\\d_base\\d_base.npy'\n",
    "#the main groups\n",
    "groups=['LID', 'SKF', 'SUM']\n",
    "\n",
    "\n",
    "\n",
    "#load variables and for a dataframe with mean values of each treatment in each recording time after \n",
    "funcs= (kinematic.npy_ar, kinematic.npy_rot_speed, kinematic.npy_thet_head, kinematic.npy_translation)\n",
    "df_ready=iter.get_sns(file, groups, funcs)\n",
    "k_df=pd.DataFrame(df_ready, columns=[i.__name__ for i in funcs]+['time','treatment','id']).dropna()\n",
    "\n",
    "\n",
    "#convert the drug names to functional tags\n",
    "k_df['ttreatment'] = k_df['treatment'].replace(['SKF'],'D1Ag')\n",
    "k_df['treatment'] = k_df['treatment'].replace(['SUM'],'D2Ag')\n",
    "k_df['ttreatment'] = k_df['treatment'].replace(['LID'],'LD-3mg')\n"
   ]
  }
 ],
 "metadata": {
  "kernelspec": {
   "display_name": "Python 3.9.12 ('base')",
   "language": "python",
   "name": "python3"
  },
  "language_info": {
   "codemirror_mode": {
    "name": "ipython",
    "version": 3
   },
   "file_extension": ".py",
   "mimetype": "text/x-python",
   "name": "python",
   "nbconvert_exporter": "python",
   "pygments_lexer": "ipython3",
   "version": "3.9.12"
  },
  "orig_nbformat": 4,
  "vscode": {
   "interpreter": {
    "hash": "6f92cb083152777afd62df578ee25c27a6535a458ee361b28317fcb89bd6b9a8"
   }
  }
 },
 "nbformat": 4,
 "nbformat_minor": 2
}
