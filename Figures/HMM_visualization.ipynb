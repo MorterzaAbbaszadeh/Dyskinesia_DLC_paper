{
 "cells": [
  {
   "cell_type": "code",
   "execution_count": 2,
   "metadata": {},
   "outputs": [],
   "source": [
    "\n",
    "import numpy as np\n",
    "import pandas as pd\n",
    "import pickle\n",
    "import matplotlib.pyplot as plt\n",
    "from matplotlib.collections import LineCollection\n",
    "from matplotlib.colors import ListedColormap, BoundaryNorm\n",
    "import seaborn as sns\n",
    "from hmmlearn import hmm\n",
    "\n",
    "\n",
    "import sys\n",
    "sys.path.insert(1, r'C:\\dlc_projects\\Analysis\\git_repo\\util')\n",
    "\n",
    "import HMM_decoding as decoding\n",
    "import single_ts as ts\n",
    "from iteration import dlc_iter\n",
    "from kinematics import dlc_kinematics\n",
    "\n",
    "\n",
    "\n",
    "#initiate functions \n",
    "fetch=ts.dlc_ts()\n",
    "kin=dlc_kinematics()\n",
    "iter=dlc_iter()\n",
    "\n",
    "\n",
    "hmm_machine=r'C:\\dlc_projects\\Analysis\\git_repo\\data\\3DHMM.pkl'\n",
    "with open(hmm_machine, \"rb\") as file: model=pickle.load(file)\n"
   ]
  },
  {
   "cell_type": "code",
   "execution_count": null,
   "metadata": {},
   "outputs": [],
   "source": [
    "evaluate=[ 'LID', 'SUM', 'SKF', 'D1A', 'D2A' ]\n",
    "file='C:\\dlc_projects\\Analysis\\git_repo\\data\\d_base.npy'\n",
    "iter.treatments=evaluate\n",
    "\n",
    "dct=iter.get_treatments(file)\n",
    "characters=decoding.time_spent(dct, model, kin)\n",
    "time_spent=pd.DataFrame(characters, columns=['time_in', 'time', 'treatment', 'animal'])\n"
   ]
  },
  {
   "cell_type": "code",
   "execution_count": null,
   "metadata": {},
   "outputs": [],
   "source": []
  },
  {
   "cell_type": "code",
   "execution_count": 3,
   "metadata": {},
   "outputs": [
    {
     "name": "stdout",
     "output_type": "stream",
     "text": [
      "(7200,)\n"
     ]
    }
   ],
   "source": [
    "evaluate=['LID']\n",
    "fetch.treatments=evaluate\n",
    "file=r'C:\\dlc_projects\\Analysis\\git_repo\\data\\d_base.npy'\n",
    "dct=fetch.get_treatments(file)\n",
    "\n",
    "ID_n=4\n",
    "t_p=30\n",
    "cut=3000\n",
    "\n",
    "#print(dct[list(dct.keys())][ID_n])\n",
    "head_ang, ar, rot_speed, translate=fetch.time_srs(dct, ID_n, t_p)\n",
    "features=np.vstack(([ar[:cut], rot_speed[:cut], head_ang[:cut]])).swapaxes(1,0)\n",
    "labels=model.predict(features)\n",
    "\n",
    "time=np.linspace(0,cut, cut)/50\n",
    "\n",
    "inside_out(features, labels, ID_n)"
   ]
  },
  {
   "cell_type": "code",
   "execution_count": 13,
   "metadata": {},
   "outputs": [
    {
     "name": "stdout",
     "output_type": "stream",
     "text": [
      "268\n",
      "(268, 3)\n"
     ]
    }
   ],
   "source": [
    "\n",
    "#inside values\n",
    "#get the ts\n",
    "#decode\n",
    "\n",
    "\n",
    "print(len(labels[labels==1]))\n",
    "\n",
    "\n",
    "def inside_out(features, labels, ids):\n",
    "\n",
    "\n",
    "    inside= features[labels[labels==1],:]\n",
    "    outside= features[labels[labels==0],:]\n",
    "    inside_ar, inside_head_ang, inside_absrot_speed=np.mean(inside[:,0]),np.mean(inside[:,1]), np.mean(inside[:,2])\n",
    "    outside_ar, outside_head_ang, outside_absrot_speed=np.mean(outside[:,0]),np.mean(outside[:,1]), np.mean(outside[:,2])\n",
    "\n",
    "\n",
    "    return (inside_ar, inside_head_ang, inside_absrot_speed, outside_ar, outside_head_ang, outside_absrot_speed, ids)"
   ]
  },
  {
   "cell_type": "code",
   "execution_count": 9,
   "metadata": {},
   "outputs": [
    {
     "data": {
      "text/plain": [
       "array([1.80377176, 1.55583519, 1.35357809, ..., 3.93876193, 4.32314772,\n",
       "       4.77745761])"
      ]
     },
     "execution_count": 9,
     "metadata": {},
     "output_type": "execute_result"
    }
   ],
   "source": [
    "features[:,1]"
   ]
  }
 ],
 "metadata": {
  "kernelspec": {
   "display_name": "Python 3.9.12 ('base')",
   "language": "python",
   "name": "python3"
  },
  "language_info": {
   "codemirror_mode": {
    "name": "ipython",
    "version": 3
   },
   "file_extension": ".py",
   "mimetype": "text/x-python",
   "name": "python",
   "nbconvert_exporter": "python",
   "pygments_lexer": "ipython3",
   "version": "3.9.12"
  },
  "orig_nbformat": 4,
  "vscode": {
   "interpreter": {
    "hash": "6f92cb083152777afd62df578ee25c27a6535a458ee361b28317fcb89bd6b9a8"
   }
  }
 },
 "nbformat": 4,
 "nbformat_minor": 2
}
