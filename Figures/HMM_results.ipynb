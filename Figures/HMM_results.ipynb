{
 "cells": [
  {
   "cell_type": "code",
   "execution_count": 2,
   "metadata": {},
   "outputs": [
    {
     "ename": "NameError",
     "evalue": "name 'model' is not defined",
     "output_type": "error",
     "traceback": [
      "\u001b[1;31m---------------------------------------------------------------------------\u001b[0m",
      "\u001b[1;31mNameError\u001b[0m                                 Traceback (most recent call last)",
      "\u001b[1;32mc:\\dlc_projects\\Analysis\\git_repo\\Figures\\HMM_results.ipynb Cell 1\u001b[0m in \u001b[0;36m<cell line: 14>\u001b[1;34m()\u001b[0m\n\u001b[0;32m     <a href='vscode-notebook-cell:/c%3A/dlc_projects/Analysis/git_repo/Figures/HMM_results.ipynb#W0sZmlsZQ%3D%3D?line=10'>11</a>\u001b[0m \u001b[39mimport\u001b[39;00m \u001b[39msys\u001b[39;00m\n\u001b[0;32m     <a href='vscode-notebook-cell:/c%3A/dlc_projects/Analysis/git_repo/Figures/HMM_results.ipynb#W0sZmlsZQ%3D%3D?line=11'>12</a>\u001b[0m sys\u001b[39m.\u001b[39mpath\u001b[39m.\u001b[39minsert(\u001b[39m1\u001b[39m, \u001b[39mr\u001b[39m\u001b[39m'\u001b[39m\u001b[39mC:\u001b[39m\u001b[39m\\\u001b[39m\u001b[39mdlc_projects\u001b[39m\u001b[39m\\\u001b[39m\u001b[39mAnalysis\u001b[39m\u001b[39m\\\u001b[39m\u001b[39mgit_repo\u001b[39m\u001b[39m\\\u001b[39m\u001b[39mutil\u001b[39m\u001b[39m'\u001b[39m)\n\u001b[1;32m---> <a href='vscode-notebook-cell:/c%3A/dlc_projects/Analysis/git_repo/Figures/HMM_results.ipynb#W0sZmlsZQ%3D%3D?line=13'>14</a>\u001b[0m \u001b[39mimport\u001b[39;00m \u001b[39mHMM_decoding\u001b[39;00m \u001b[39mas\u001b[39;00m \u001b[39mdecoding\u001b[39;00m\n\u001b[0;32m     <a href='vscode-notebook-cell:/c%3A/dlc_projects/Analysis/git_repo/Figures/HMM_results.ipynb#W0sZmlsZQ%3D%3D?line=14'>15</a>\u001b[0m \u001b[39mimport\u001b[39;00m \u001b[39msingle_ts\u001b[39;00m \u001b[39mas\u001b[39;00m \u001b[39mts\u001b[39;00m\n\u001b[0;32m     <a href='vscode-notebook-cell:/c%3A/dlc_projects/Analysis/git_repo/Figures/HMM_results.ipynb#W0sZmlsZQ%3D%3D?line=15'>16</a>\u001b[0m \u001b[39mfrom\u001b[39;00m \u001b[39miteration\u001b[39;00m \u001b[39mimport\u001b[39;00m dlc_iter\n",
      "File \u001b[1;32mC:\\dlc_projects\\Analysis\\git_repo\\util\\HMM_decoding.py:61\u001b[0m, in \u001b[0;36m<module>\u001b[1;34m\u001b[0m\n\u001b[0;32m     58\u001b[0m \u001b[39miter\u001b[39m\u001b[39m.\u001b[39mtreatments\u001b[39m=\u001b[39mevaluate\n\u001b[0;32m     60\u001b[0m dct\u001b[39m=\u001b[39m\u001b[39miter\u001b[39m\u001b[39m.\u001b[39mget_treatments(file)\n\u001b[1;32m---> 61\u001b[0m characters\u001b[39m=\u001b[39mtime_spent(dct, model, kin)\n\u001b[0;32m     76\u001b[0m sns\u001b[39m.\u001b[39mpointplot(x\u001b[39m=\u001b[39m\u001b[39m'\u001b[39m\u001b[39mtime\u001b[39m\u001b[39m'\u001b[39m, y\u001b[39m=\u001b[39m\u001b[39m'\u001b[39m\u001b[39mtime_in\u001b[39m\u001b[39m'\u001b[39m, hue\u001b[39m=\u001b[39m\u001b[39m'\u001b[39m\u001b[39mtreatment\u001b[39m\u001b[39m'\u001b[39m, \n\u001b[0;32m     77\u001b[0m             data\u001b[39m=\u001b[39mtime_spent\u001b[39m.\u001b[39mloc[time_spent[\u001b[39m'\u001b[39m\u001b[39mtreatment\u001b[39m\u001b[39m'\u001b[39m]\u001b[39m.\u001b[39misin([\u001b[39m'\u001b[39m\u001b[39mLID\u001b[39m\u001b[39m'\u001b[39m,\u001b[39m'\u001b[39m\u001b[39mSUM\u001b[39m\u001b[39m'\u001b[39m, \u001b[39m'\u001b[39m\u001b[39mSKF\u001b[39m\u001b[39m'\u001b[39m])], ci\u001b[39m=\u001b[39m\u001b[39m95\u001b[39m )\n\u001b[0;32m     78\u001b[0m sns\u001b[39m.\u001b[39mdespine()\n",
      "\u001b[1;31mNameError\u001b[0m: name 'model' is not defined"
     ]
    }
   ],
   "source": [
    "\n",
    "import numpy as np\n",
    "import pandas as pd\n",
    "import pickle\n",
    "import matplotlib.pyplot as plt\n",
    "from matplotlib.collections import LineCollection\n",
    "from matplotlib.colors import ListedColormap, BoundaryNorm\n",
    "import seaborn as sns\n",
    "from hmmlearn import hmm\n",
    "\n",
    "\n",
    "import sys\n",
    "sys.path.insert(1, r'C:\\dlc_projects\\Analysis\\git_repo\\util')\n",
    "\n",
    "import HMM_decoding as decoding\n",
    "import single_ts as ts\n",
    "from iteration import dlc_iter\n",
    "from kinematics import dlc_kinematics\n",
    "\n",
    "\n",
    "\n",
    "#initiate functions \n",
    "fetch=ts.dlc_ts()\n",
    "kin=dlc_kinematics()\n",
    "iter=dlc_iter()\n",
    "\n",
    "\n",
    "hmm_machine=r'C:\\dlc_projects\\Analysis\\git_repo\\data\\3DHMM.pkl'\n",
    "with open(hmm_machine, \"rb\") as file: model=pickle.load(file)"
   ]
  },
  {
   "cell_type": "code",
   "execution_count": null,
   "metadata": {},
   "outputs": [],
   "source": [
    "evaluate=[ 'LID', 'SUM', 'SKF', 'D1A', 'D2A' ]\n",
    "file='C:\\dlc_projects\\Analysis\\git_repo\\data\\d_base.npy'\n",
    "iter.treatments=evaluate\n",
    "\n",
    "dct=iter.get_treatments(file)\n",
    "characters=decoding.time_spent(dct, model, kin)\n",
    "time_spent=pd.DataFrame(characters, columns=['time_in', 'time', 'treatment', 'animal'])"
   ]
  },
  {
   "cell_type": "markdown",
   "metadata": {},
   "source": [
    "                                                    '''The plots'''"
   ]
  },
  {
   "cell_type": "code",
   "execution_count": null,
   "metadata": {},
   "outputs": [],
   "source": [
    "dataframe=time_spent.loc[time_spent['treatment'].isin(['LID','SUM', 'SKF'])]"
   ]
  },
  {
   "cell_type": "code",
   "execution_count": null,
   "metadata": {},
   "outputs": [],
   "source": [
    "ax=sns.pointplot(x='time', y='time_in', hue='treatment',  data=dataframe, ci=95 )\n",
    "sns.despine()\n",
    "\n",
    "plt.legend(bbox_to_anchor=(1.2,0.5))\n"
   ]
  }
 ],
 "metadata": {
  "kernelspec": {
   "display_name": "Python 3.9.12 ('base')",
   "language": "python",
   "name": "python3"
  },
  "language_info": {
   "codemirror_mode": {
    "name": "ipython",
    "version": 3
   },
   "file_extension": ".py",
   "mimetype": "text/x-python",
   "name": "python",
   "nbconvert_exporter": "python",
   "pygments_lexer": "ipython3",
   "version": "3.9.12"
  },
  "orig_nbformat": 4,
  "vscode": {
   "interpreter": {
    "hash": "6f92cb083152777afd62df578ee25c27a6535a458ee361b28317fcb89bd6b9a8"
   }
  }
 },
 "nbformat": 4,
 "nbformat_minor": 2
}
