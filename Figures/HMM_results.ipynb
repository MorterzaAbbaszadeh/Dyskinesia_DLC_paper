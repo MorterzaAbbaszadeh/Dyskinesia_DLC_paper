{
 "cells": [
  {
   "cell_type": "code",
   "execution_count": 2,
   "metadata": {},
   "outputs": [],
   "source": [
    "\n",
    "import numpy as np\n",
    "import pandas as pd\n",
    "import pickle\n",
    "import matplotlib.pyplot as plt\n",
    "from matplotlib.collections import LineCollection\n",
    "from matplotlib.colors import ListedColormap, BoundaryNorm\n",
    "import seaborn as sns\n",
    "from hmmlearn import hmm\n",
    "\n",
    "\n",
    "import sys\n",
    "sys.path.insert(1, r'C:\\dlc_projects\\Analysis\\git_repo\\util')\n",
    "\n",
    "import HMM_decoding as decoding\n",
    "import single_ts as ts\n",
    "from iteration import dlc_iter\n",
    "from kinematics import dlc_kinematics\n",
    "from visualization_config import visual_config\n",
    "\n",
    "\n",
    "#initiate functions \n",
    "fetch=ts.dlc_ts()\n",
    "kin=dlc_kinematics()\n",
    "iter=dlc_iter()\n",
    "visual_config=visual_config()\n",
    "\n",
    "hmm_machine=r'C:\\dlc_projects\\Analysis\\git_repo\\data\\3DHMM.pkl'\n",
    "with open(hmm_machine, \"rb\") as file: model=pickle.load(file)"
   ]
  },
  {
   "cell_type": "code",
   "execution_count": 3,
   "metadata": {},
   "outputs": [],
   "source": [
    "evaluate=[ 'LID', 'SUM', 'SKF', 'D1A', 'D2A' ]\n",
    "file='C:\\dlc_projects\\Analysis\\git_repo\\data\\d_base.npy'\n",
    "iter.treatments=evaluate\n",
    "\n",
    "dct=iter.get_treatments(file)\n",
    "\n"
   ]
  },
  {
   "cell_type": "code",
   "execution_count": 3,
   "metadata": {},
   "outputs": [],
   "source": [
    "\n",
    "characters=decoding.time_spent(dct, model, kin)\n",
    "time_spent=pd.DataFrame(characters, columns=['time_in', 'time', 'treatment', 'animal'])"
   ]
  },
  {
   "cell_type": "markdown",
   "metadata": {},
   "source": [
    "                                                    '''The plots'''"
   ]
  },
  {
   "cell_type": "code",
   "execution_count": 5,
   "metadata": {},
   "outputs": [],
   "source": [
    "dataframe=time_spent.loc[time_spent['treatment'].isin(['LID','SUM', 'SKF'])]"
   ]
  },
  {
   "cell_type": "code",
   "execution_count": 6,
   "metadata": {},
   "outputs": [
    {
     "data": {
      "image/png": "[encoded data removed]",
      "text/plain": [
       "<Figure size 432x288 with 1 Axes>"
      ]
     },
     "metadata": {
      "needs_background": "light"
     },
     "output_type": "display_data"
    }
   ],
   "source": [
    "ax=sns.pointplot(x='time', y='time_in', hue='treatment',  data=dataframe, ci=95 )\n",
    "\n",
    "\n",
    "xlabel='Time after treatment(Min)'\n",
    "ylabel='Main body length (norm)'\n",
    " \n",
    "\n",
    "ax=visual_config.kinematic_box(ax, xlabel, ylabel, legend=visual_config.legend)\n",
    "plt.draw()"
   ]
  },
  {
   "cell_type": "code",
   "execution_count": 6,
   "metadata": {},
   "outputs": [],
   "source": [
    "\n",
    "t_points=30\n",
    "\n",
    "in_out=decoding.inside_out(dct, model, kin, t_points)\n",
    "\n",
    "inout_df=pd.DataFrame(in_out, columns=['ar', 'head_ang', 'abs_speed','key', 'treatment', 'inside'])\n",
    "inout_df.head()"
   ]
  },
  {
   "cell_type": "code",
   "execution_count": 8,
   "metadata": {},
   "outputs": [
    {
     "data": {
      "text/html": [
       "<div>\n",
       "<style scoped>\n",
       "    .dataframe tbody tr th:only-of-type {\n",
       "        vertical-align: middle;\n",
       "    }\n",
       "\n",
       "    .dataframe tbody tr th {\n",
       "        vertical-align: top;\n",
       "    }\n",
       "\n",
       "    .dataframe thead th {\n",
       "        text-align: right;\n",
       "    }\n",
       "</style>\n",
       "<table border=\"1\" class=\"dataframe\">\n",
       "  <thead>\n",
       "    <tr style=\"text-align: right;\">\n",
       "      <th></th>\n",
       "      <th>inside_ar</th>\n",
       "      <th>inside_head_ang</th>\n",
       "      <th>inside_absrot_speed</th>\n",
       "      <th>outside_ar</th>\n",
       "      <th>outside_head_ang</th>\n",
       "      <th>outside_absrot_speed</th>\n",
       "      <th>ky</th>\n",
       "      <th>treatment</th>\n",
       "    </tr>\n",
       "  </thead>\n",
       "  <tbody>\n",
       "    <tr>\n",
       "      <th>0</th>\n",
       "      <td>0.540235</td>\n",
       "      <td>0.074785</td>\n",
       "      <td>21.553182</td>\n",
       "      <td>0.560867</td>\n",
       "      <td>-0.00655</td>\n",
       "      <td>22.279364</td>\n",
       "      <td>26_D1A</td>\n",
       "      <td>D1A</td>\n",
       "    </tr>\n",
       "  </tbody>\n",
       "</table>\n",
       "</div>"
      ],
      "text/plain": [
       "   inside_ar  inside_head_ang  inside_absrot_speed  outside_ar  \\\n",
       "0   0.540235         0.074785            21.553182    0.560867   \n",
       "\n",
       "   outside_head_ang  outside_absrot_speed      ky treatment  \n",
       "0          -0.00655             22.279364  26_D1A       D1A  "
      ]
     },
     "execution_count": 8,
     "metadata": {},
     "output_type": "execute_result"
    }
   ],
   "source": [
    "axes=plt.subplots(1,4)\n",
    "\n",
    "\n",
    "sns.barplot(\n",
    "    data=df, x=\"body_mass_g\", y=\"island\",\n",
    "    errorbar=(\"pi\", 50), capsize=.4, errcolor=\".5\",\n",
    "    linewidth=3, edgecolor=\".5\", facecolor=(0, 0, 0, 0),\n",
    ")\n",
    "for ax in axes:\n",
    "    "
   ]
  }
 ],
 "metadata": {
  "kernelspec": {
   "display_name": "Python 3.9.12 ('base')",
   "language": "python",
   "name": "python3"
  },
  "language_info": {
   "codemirror_mode": {
    "name": "ipython",
    "version": 3
   },
   "file_extension": ".py",
   "mimetype": "text/x-python",
   "name": "python",
   "nbconvert_exporter": "python",
   "pygments_lexer": "ipython3",
   "version": "3.9.12"
  },
  "orig_nbformat": 4,
  "vscode": {
   "interpreter": {
    "hash": "6f92cb083152777afd62df578ee25c27a6535a458ee361b28317fcb89bd6b9a8"
   }
  }
 },
 "nbformat": 4,
 "nbformat_minor": 2
}
