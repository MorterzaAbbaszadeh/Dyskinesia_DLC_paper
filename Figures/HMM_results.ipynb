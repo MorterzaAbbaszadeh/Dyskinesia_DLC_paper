{
 "cells": [
  {
   "cell_type": "code",
   "execution_count": 1,
   "metadata": {},
   "outputs": [],
   "source": [
    "\n",
    "import numpy as np\n",
    "import pandas as pd\n",
    "import pickle\n",
    "import matplotlib.pyplot as plt\n",
    "from matplotlib.collections import LineCollection\n",
    "from matplotlib.colors import ListedColormap, BoundaryNorm\n",
    "import seaborn as sns\n",
    "from hmmlearn import hmm\n",
    "\n",
    "\n",
    "import sys\n",
    "sys.path.insert(1, r'C:\\dlc_projects\\Analysis\\git_repo\\util')\n",
    "\n",
    "import HMM_decoding as decoding\n",
    "import single_ts as ts\n",
    "from iteration import dlc_iter\n",
    "from kinematics import dlc_kinematics\n",
    "from visualization_config import visual_config\n",
    "\n",
    "\n",
    "#initiate functions \n",
    "fetch=ts.dlc_ts()\n",
    "kin=dlc_kinematics()\n",
    "iter=dlc_iter()\n",
    "visual_config=visual_config()\n",
    "\n",
    "hmm_machine=r'C:\\dlc_projects\\Analysis\\git_repo\\data\\3DHMM.pkl'\n",
    "with open(hmm_machine, \"rb\") as file: model=pickle.load(file)"
   ]
  },
  {
   "cell_type": "code",
   "execution_count": 5,
   "metadata": {},
   "outputs": [
    {
     "name": "stdout",
     "output_type": "stream",
     "text": [
      "(17019,)\n",
      "(16975,)\n",
      "(16981,)\n",
      "(17022,)\n",
      "(16992,)\n",
      "(17020,)\n",
      "(16993,)\n",
      "(17021,)\n",
      "(16992,)\n",
      "(16825,)\n",
      "(16874,)\n",
      "(16776,)\n",
      "(16835,)\n",
      "(16862,)\n",
      "(16849,)\n",
      "(16829,)\n",
      "(16788,)\n",
      "(16951,)\n",
      "(17012,)\n",
      "(16990,)\n",
      "(17023,)\n",
      "(16911,)\n",
      "(17020,)\n",
      "(16992,)\n",
      "(16971,)\n",
      "(16943,)\n",
      "(17022,)\n",
      "(16994,)\n",
      "(16994,)\n",
      "(17024,)\n",
      "(16993,)\n",
      "(17024,)\n",
      "(16993,)\n",
      "(17017,)\n",
      "(16994,)\n",
      "(7200,)\n",
      "(7200,)\n",
      "(7200,)\n",
      "(7200,)\n",
      "(7200,)\n",
      "(7200,)\n",
      "(7200,)\n",
      "(7200,)\n",
      "(7200,)\n",
      "(7200,)\n",
      "(7200,)\n",
      "(7200,)\n",
      "(7200,)\n",
      "(7200,)\n",
      "(7200,)\n",
      "(7200,)\n",
      "(7200,)\n",
      "(7200,)\n",
      "(36000,)\n",
      "(7200,)\n",
      "(7200,)\n",
      "(7200,)\n",
      "(7200,)\n",
      "(7200,)\n",
      "(7200,)\n",
      "(7200,)\n",
      "(7200,)\n",
      "(7200,)\n",
      "(36000,)\n",
      "(7200,)\n",
      "(7200,)\n",
      "(7200,)\n",
      "(7200,)\n",
      "(7200,)\n",
      "(7200,)\n",
      "(7200,)\n",
      "(7200,)\n",
      "(7200,)\n",
      "(7200,)\n",
      "(7200,)\n",
      "(7200,)\n",
      "(7200,)\n",
      "(7200,)\n",
      "(7200,)\n",
      "(7200,)\n",
      "(7200,)\n",
      "(7200,)\n",
      "(7200,)\n",
      "(7200,)\n",
      "(7200,)\n",
      "(7200,)\n",
      "(7200,)\n",
      "(7200,)\n",
      "(7200,)\n",
      "(7200,)\n",
      "(7200,)\n",
      "(7200,)\n",
      "(7200,)\n",
      "(7200,)\n",
      "(7200,)\n",
      "(7200,)\n",
      "(7200,)\n",
      "(7200,)\n",
      "(36000,)\n",
      "(7200,)\n",
      "(7200,)\n",
      "(7200,)\n",
      "(7200,)\n",
      "(7200,)\n",
      "(7200,)\n",
      "(7200,)\n",
      "(7200,)\n",
      "(36000,)\n",
      "(36000,)\n",
      "(11149,)\n",
      "(7200,)\n",
      "(7200,)\n",
      "(7200,)\n",
      "(7200,)\n",
      "(7200,)\n",
      "(7200,)\n",
      "(7200,)\n",
      "(7200,)\n",
      "(7200,)\n",
      "(7200,)\n",
      "(7200,)\n",
      "(36000,)\n",
      "(36000,)\n",
      "(7200,)\n",
      "(7200,)\n",
      "(7200,)\n",
      "(7200,)\n",
      "(7200,)\n",
      "(7200,)\n",
      "(7200,)\n",
      "(7200,)\n",
      "(36000,)\n",
      "(7200,)\n",
      "(7200,)\n",
      "(7200,)\n",
      "(7200,)\n",
      "(7200,)\n",
      "(7200,)\n",
      "(7200,)\n",
      "(7200,)\n",
      "(7200,)\n",
      "(36000,)\n"
     ]
    }
   ],
   "source": [
    "evaluate=[ 'LID', 'SUM', 'SKF', 'D1A', 'D2A' ]\n",
    "file='C:\\dlc_projects\\Analysis\\git_repo\\data\\d_base.npy'\n",
    "iter.treatments=evaluate\n",
    "\n",
    "dct=iter.get_treatments(file)\n",
    "characters=decoding.time_spent(dct, model, kin)\n",
    "time_spent=pd.DataFrame(characters, columns=['time_in', 'time', 'treatment', 'animal'])"
   ]
  },
  {
   "cell_type": "markdown",
   "metadata": {},
   "source": [
    "                                                    '''The plots'''"
   ]
  },
  {
   "cell_type": "code",
   "execution_count": 3,
   "metadata": {},
   "outputs": [],
   "source": [
    "dataframe=time_spent.loc[time_spent['treatment'].isin(['LID','SUM', 'SKF'])]"
   ]
  },
  {
   "cell_type": "code",
   "execution_count": 4,
   "metadata": {},
   "outputs": [
    {
     "data": {
      "text/plain": [
       "<matplotlib.legend.Legend at 0x237e5a9a460>"
      ]
     },
     "execution_count": 4,
     "metadata": {},
     "output_type": "execute_result"
    },
    {
     "data": {
      "image/png": "[encoded data removed]",
      "text/plain": [
       "<Figure size 432x288 with 1 Axes>"
      ]
     },
     "metadata": {
      "needs_background": "light"
     },
     "output_type": "display_data"
    }
   ],
   "source": [
    "ax=sns.pointplot(x='time', y='time_in', hue='treatment',  data=dataframe, ci=95 )\n",
    "\n",
    "\n",
    "xlabel='Time after treatment(Min)'\n",
    "ylabel='Main body length (norm)'\n",
    "\n",
    "\n",
    "ax=visual_config.kinematic_box(ax, xlabel, ylabel, legend=False)\n",
    "plt.draw()"
   ]
  }
 ],
 "metadata": {
  "kernelspec": {
   "display_name": "Python 3.9.12 ('base')",
   "language": "python",
   "name": "python3"
  },
  "language_info": {
   "codemirror_mode": {
    "name": "ipython",
    "version": 3
   },
   "file_extension": ".py",
   "mimetype": "text/x-python",
   "name": "python",
   "nbconvert_exporter": "python",
   "pygments_lexer": "ipython3",
   "version": "3.9.12"
  },
  "orig_nbformat": 4,
  "vscode": {
   "interpreter": {
    "hash": "6f92cb083152777afd62df578ee25c27a6535a458ee361b28317fcb89bd6b9a8"
   }
  }
 },
 "nbformat": 4,
 "nbformat_minor": 2
}
