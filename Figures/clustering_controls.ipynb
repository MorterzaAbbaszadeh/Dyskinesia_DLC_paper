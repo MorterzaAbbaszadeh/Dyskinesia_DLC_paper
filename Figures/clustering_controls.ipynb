{
 "cells": [
  {
   "cell_type": "code",
   "execution_count": 1,
   "metadata": {},
   "outputs": [],
   "source": [
    "import numpy as np\n",
    "import pandas as pd\n",
    "import seaborn as sns\n",
    "import matplotlib.pyplot as plt\n",
    "import pickle\n",
    "\n",
    "import sys\n",
    "sys.path.insert(1, r'C:\\dlc_projects\\Analysis\\git_repo\\util')\n",
    "\n",
    "import PCA_segmentation_controls as segmentation_control\n",
    "from single_ts import dlc_ts\n",
    "from iteration import dlc_iter\n",
    "from kinematics import dlc_kinematics\n",
    "from visualization_config import visual_config\n",
    "\n",
    "#initiate functions \n",
    "ts=dlc_ts()\n",
    "kin=dlc_kinematics()\n",
    "iter=dlc_iter()\n",
    "vs_config=visual_config()\n",
    "\n",
    "hmm_machine=r'C:\\dlc_projects\\Analysis\\git_repo\\data\\3DHMM.pkl'\n",
    "with open(hmm_machine, \"rb\") as file: model=pickle.load(file)\n"
   ]
  },
  {
   "cell_type": "code",
   "execution_count": 2,
   "metadata": {},
   "outputs": [],
   "source": [
    "\n",
    "t_points=30 #training time point\n",
    "range_comps=15\n",
    "\n",
    "evaluate=['LID']\n",
    "iter.treatments=evaluate #set treatment groups\n",
    "file='C:\\dlc_projects\\Analysis\\git_repo\\data\\d_base.npy'\n",
    "dct=iter.get_treatments(file)\n",
    "\n"
   ]
  },
  {
   "cell_type": "code",
   "execution_count": 3,
   "metadata": {},
   "outputs": [
    {
     "data": {
      "text/html": [
       "<div>\n",
       "<style scoped>\n",
       "    .dataframe tbody tr th:only-of-type {\n",
       "        vertical-align: middle;\n",
       "    }\n",
       "\n",
       "    .dataframe tbody tr th {\n",
       "        vertical-align: top;\n",
       "    }\n",
       "\n",
       "    .dataframe thead th {\n",
       "        text-align: right;\n",
       "    }\n",
       "</style>\n",
       "<table border=\"1\" class=\"dataframe\">\n",
       "  <thead>\n",
       "    <tr style=\"text-align: right;\">\n",
       "      <th></th>\n",
       "      <th>case_name</th>\n",
       "      <th>score</th>\n",
       "      <th>n_clusters</th>\n",
       "      <th>clustering</th>\n",
       "    </tr>\n",
       "  </thead>\n",
       "  <tbody>\n",
       "    <tr>\n",
       "      <th>0</th>\n",
       "      <td>21_LID</td>\n",
       "      <td>0.286273</td>\n",
       "      <td>2</td>\n",
       "      <td>3D Embedding</td>\n",
       "    </tr>\n",
       "    <tr>\n",
       "      <th>1</th>\n",
       "      <td>21_LID</td>\n",
       "      <td>0.140559</td>\n",
       "      <td>3</td>\n",
       "      <td>3D Embedding</td>\n",
       "    </tr>\n",
       "    <tr>\n",
       "      <th>2</th>\n",
       "      <td>21_LID</td>\n",
       "      <td>0.146747</td>\n",
       "      <td>4</td>\n",
       "      <td>3D Embedding</td>\n",
       "    </tr>\n",
       "    <tr>\n",
       "      <th>3</th>\n",
       "      <td>21_LID</td>\n",
       "      <td>-0.001652</td>\n",
       "      <td>5</td>\n",
       "      <td>3D Embedding</td>\n",
       "    </tr>\n",
       "    <tr>\n",
       "      <th>4</th>\n",
       "      <td>21_LID</td>\n",
       "      <td>-0.013007</td>\n",
       "      <td>6</td>\n",
       "      <td>3D Embedding</td>\n",
       "    </tr>\n",
       "  </tbody>\n",
       "</table>\n",
       "</div>"
      ],
      "text/plain": [
       "  case_name     score  n_clusters    clustering\n",
       "0    21_LID  0.286273           2  3D Embedding\n",
       "1    21_LID  0.140559           3  3D Embedding\n",
       "2    21_LID  0.146747           4  3D Embedding\n",
       "3    21_LID -0.001652           5  3D Embedding\n",
       "4    21_LID -0.013007           6  3D Embedding"
      ]
     },
     "execution_count": 3,
     "metadata": {},
     "output_type": "execute_result"
    }
   ],
   "source": [
    "\n",
    "score=segmentation_control.nl_hmm_scores(dct,t_points, range_comps, kin)\n",
    "score_df=pd.DataFrame(score, columns=['case_name', 'score', 'n_clusters', 'clustering'])\n",
    "score_df.head()\n"
   ]
  },
  {
   "cell_type": "code",
   "execution_count": 14,
   "metadata": {},
   "outputs": [
    {
     "data": {
      "text/html": [
       "<div>\n",
       "<style scoped>\n",
       "    .dataframe tbody tr th:only-of-type {\n",
       "        vertical-align: middle;\n",
       "    }\n",
       "\n",
       "    .dataframe tbody tr th {\n",
       "        vertical-align: top;\n",
       "    }\n",
       "\n",
       "    .dataframe thead th {\n",
       "        text-align: right;\n",
       "    }\n",
       "</style>\n",
       "<table border=\"1\" class=\"dataframe\">\n",
       "  <thead>\n",
       "    <tr style=\"text-align: right;\">\n",
       "      <th></th>\n",
       "      <th>case_name</th>\n",
       "      <th>score</th>\n",
       "      <th>n_clusters</th>\n",
       "      <th>clustering</th>\n",
       "    </tr>\n",
       "  </thead>\n",
       "  <tbody>\n",
       "    <tr>\n",
       "      <th>0</th>\n",
       "      <td>21_LID</td>\n",
       "      <td>0.103725</td>\n",
       "      <td>2</td>\n",
       "      <td>12D-PCA Embedding</td>\n",
       "    </tr>\n",
       "    <tr>\n",
       "      <th>1</th>\n",
       "      <td>21_LID</td>\n",
       "      <td>0.156010</td>\n",
       "      <td>3</td>\n",
       "      <td>12D-PCA Embedding</td>\n",
       "    </tr>\n",
       "    <tr>\n",
       "      <th>2</th>\n",
       "      <td>21_LID</td>\n",
       "      <td>0.173569</td>\n",
       "      <td>4</td>\n",
       "      <td>12D-PCA Embedding</td>\n",
       "    </tr>\n",
       "    <tr>\n",
       "      <th>3</th>\n",
       "      <td>21_LID</td>\n",
       "      <td>0.147163</td>\n",
       "      <td>5</td>\n",
       "      <td>12D-PCA Embedding</td>\n",
       "    </tr>\n",
       "    <tr>\n",
       "      <th>4</th>\n",
       "      <td>21_LID</td>\n",
       "      <td>0.171527</td>\n",
       "      <td>6</td>\n",
       "      <td>12D-PCA Embedding</td>\n",
       "    </tr>\n",
       "  </tbody>\n",
       "</table>\n",
       "</div>"
      ],
      "text/plain": [
       "  case_name     score  n_clusters         clustering\n",
       "0    21_LID  0.103725           2  12D-PCA Embedding\n",
       "1    21_LID  0.156010           3  12D-PCA Embedding\n",
       "2    21_LID  0.173569           4  12D-PCA Embedding\n",
       "3    21_LID  0.147163           5  12D-PCA Embedding\n",
       "4    21_LID  0.171527           6  12D-PCA Embedding"
      ]
     },
     "execution_count": 14,
     "metadata": {},
     "output_type": "execute_result"
    }
   ],
   "source": [
    "dim=6\n",
    "pca_score=segmentation_control.pca_hmm_scores(dct,t_points, range_comps, ts, dim)\n",
    "pca_score_df=pd.DataFrame(pca_score, columns=['case_name', 'score', 'n_clusters', 'clustering'])\n",
    "pca_score_df.head()"
   ]
  },
  {
   "cell_type": "code",
   "execution_count": 16,
   "metadata": {},
   "outputs": [
    {
     "data": {
      "image/png": "[encoded data removed]",
      "text/plain": [
       "<Figure size 432x288 with 1 Axes>"
      ]
     },
     "metadata": {
      "needs_background": "light"
     },
     "output_type": "display_data"
    }
   ],
   "source": [
    "silo_scores=pd.concat((score_df,pca_score_df), ignore_index=True)\n",
    "\n",
    "fig, ax=plt.subplots(1,1)\n",
    "\n",
    "xlabel='Number of States'\n",
    "ylabel='Silhouette Score'\n",
    "\n",
    "ax=sns.lineplot(x='n_clusters', y='score', hue='clustering', data=silo_scores, ax=ax)\n",
    "ax=vs_config.sns_plots(ax, xlabel, ylabel, legend=True)\n",
    "\n",
    "plt.savefig('silo_scores.svg')\n",
    "plt.draw()"
   ]
  },
  {
   "cell_type": "code",
   "execution_count": 18,
   "metadata": {},
   "outputs": [
    {
     "data": {
      "text/html": [
       "<div>\n",
       "<style scoped>\n",
       "    .dataframe tbody tr th:only-of-type {\n",
       "        vertical-align: middle;\n",
       "    }\n",
       "\n",
       "    .dataframe tbody tr th {\n",
       "        vertical-align: top;\n",
       "    }\n",
       "\n",
       "    .dataframe thead th {\n",
       "        text-align: right;\n",
       "    }\n",
       "</style>\n",
       "<table border=\"1\" class=\"dataframe\">\n",
       "  <thead>\n",
       "    <tr style=\"text-align: right;\">\n",
       "      <th></th>\n",
       "      <th>case_name</th>\n",
       "      <th>variation</th>\n",
       "      <th>dimension</th>\n",
       "      <th>method</th>\n",
       "    </tr>\n",
       "  </thead>\n",
       "  <tbody>\n",
       "    <tr>\n",
       "      <th>0</th>\n",
       "      <td>21_LID</td>\n",
       "      <td>0.352798</td>\n",
       "      <td>0</td>\n",
       "      <td>12D-PCA Embedding</td>\n",
       "    </tr>\n",
       "    <tr>\n",
       "      <th>1</th>\n",
       "      <td>21_LID</td>\n",
       "      <td>0.235025</td>\n",
       "      <td>1</td>\n",
       "      <td>12D-PCA Embedding</td>\n",
       "    </tr>\n",
       "    <tr>\n",
       "      <th>2</th>\n",
       "      <td>21_LID</td>\n",
       "      <td>0.217176</td>\n",
       "      <td>2</td>\n",
       "      <td>12D-PCA Embedding</td>\n",
       "    </tr>\n",
       "    <tr>\n",
       "      <th>3</th>\n",
       "      <td>21_LID</td>\n",
       "      <td>0.126916</td>\n",
       "      <td>3</td>\n",
       "      <td>12D-PCA Embedding</td>\n",
       "    </tr>\n",
       "    <tr>\n",
       "      <th>4</th>\n",
       "      <td>21_LID</td>\n",
       "      <td>0.031399</td>\n",
       "      <td>4</td>\n",
       "      <td>12D-PCA Embedding</td>\n",
       "    </tr>\n",
       "  </tbody>\n",
       "</table>\n",
       "</div>"
      ],
      "text/plain": [
       "  case_name  variation  dimension             method\n",
       "0    21_LID   0.352798          0  12D-PCA Embedding\n",
       "1    21_LID   0.235025          1  12D-PCA Embedding\n",
       "2    21_LID   0.217176          2  12D-PCA Embedding\n",
       "3    21_LID   0.126916          3  12D-PCA Embedding\n",
       "4    21_LID   0.031399          4  12D-PCA Embedding"
      ]
     },
     "execution_count": 18,
     "metadata": {},
     "output_type": "execute_result"
    }
   ],
   "source": [
    "\n",
    "eigens=segmentation_control.pca_spectrum(dct,t_points, ts)\n",
    "eigens_df=pd.DataFrame(eigens, columns=['case_name', 'variation', 'dimension', 'method'])\n",
    "\n",
    "eigens_df.head()"
   ]
  },
  {
   "cell_type": "code",
   "execution_count": 19,
   "metadata": {},
   "outputs": [
    {
     "data": {
      "image/png": "[encoded data removed]",
      "text/plain": [
       "<Figure size 432x288 with 1 Axes>"
      ]
     },
     "metadata": {
      "needs_background": "light"
     },
     "output_type": "display_data"
    }
   ],
   "source": [
    "\n",
    "\n",
    "fig, ax=plt.subplots(1,1)\n",
    "\n",
    "\n",
    "xlabel='Diemnsions'\n",
    "ylabel='Fraction of variance explained'\n",
    "ax=sns.lineplot(x='dimension', y='variation', data=eigens_df)\n",
    "ax=vs_config.sns_plots(ax, xlabel, ylabel, legend=True)\n",
    "plt.savefig('eigens.svg')\n",
    "plt.draw()"
   ]
  },
  {
   "cell_type": "code",
   "execution_count": 20,
   "metadata": {},
   "outputs": [],
   "source": [
    "from sklearn.preprocessing import StandardScaler\n",
    "from sklearn.decomposition import PCA\n",
    "\n",
    "\n",
    "ky=list(dct.keys())[0]\n",
    "features=ts.pca_12D_srs(dct, ky, t_points)\n",
    "pca = PCA()                                     #could  be optimized by n_comp\n",
    "x = StandardScaler().fit_transform(features)\n",
    "projected= pca.fit_transform(x)\n",
    "\n",
    "colms=list(np.arange(0, features.shape[1]))\n",
    "\n"
   ]
  },
  {
   "cell_type": "code",
   "execution_count": 21,
   "metadata": {},
   "outputs": [
    {
     "data": {
      "image/png": "[encoded data removed]",
      "text/plain": [
       "<Figure size 432x288 with 2 Axes>"
      ]
     },
     "metadata": {
      "needs_background": "light"
     },
     "output_type": "display_data"
    }
   ],
   "source": [
    "\n",
    "feat_corr = pd.DataFrame(data=features, columns=colms).corr()\n",
    "\n",
    "reduced_corr = pd.DataFrame(data=projected, columns=colms).corr()\n",
    "\n",
    "cmap = sns.diverging_palette(230, 20, as_cmap=True)\n",
    "\n",
    "mask = np.triu(np.ones_like(feat_corr , dtype=bool))\n",
    "\n",
    "\n",
    "fig, ax = plt.subplots(1,1)\n",
    "\n",
    "sns.heatmap(feat_corr,cmap=cmap, vmin=-1, vmax=1, center=0,\n",
    "            square=True, linewidths=.5, cbar=True, cbar_kws={\"shrink\": 0.8,\"ticks\":[-1,0,1] }, ax=ax)\n",
    "\n",
    "ax.tick_params(bottom=False, top=False, left=False, right=False)\n",
    "ax.set_xticklabels([])\n",
    "ax.set_yticklabels([])\n",
    "ax.set_ylabel('Dimensions')\n",
    "ax.set_xlabel('Dimensions')\n",
    "plt.title('Raw Data')\n",
    "\n",
    "\n",
    "plt.savefig('raw_corr.svg')\n",
    "plt.draw()"
   ]
  },
  {
   "cell_type": "code",
   "execution_count": 22,
   "metadata": {},
   "outputs": [
    {
     "data": {
      "image/png": "[encoded data removed]",
      "text/plain": [
       "<Figure size 432x288 with 1 Axes>"
      ]
     },
     "metadata": {
      "needs_background": "light"
     },
     "output_type": "display_data"
    }
   ],
   "source": [
    "fig, ax = plt.subplots(1,1)\n",
    "# Draw the heatmap with the mask and correct aspect ratio\n",
    "sns.heatmap(reduced_corr, cmap=cmap, vmin=-1, vmax=1, center=0,\n",
    "            square=True, linewidths=.5, cbar=False, cbar_kws={\"shrink\": 0.8}, ax=ax)\n",
    "\n",
    "ax.tick_params(bottom=False, top=False, left=False, right=False)\n",
    "ax.set_xticklabels([])\n",
    "ax.set_yticklabels([])\n",
    "ax.set_ylabel('Dimensions')\n",
    "ax.set_xlabel('Dimensions')\n",
    "plt.title('PCA Projected')\n",
    "\n",
    "\n",
    "plt.savefig('pca_corr.svg')\n",
    "plt.draw()"
   ]
  }
 ],
 "metadata": {
  "kernelspec": {
   "display_name": "Python 3.9.12 ('base')",
   "language": "python",
   "name": "python3"
  },
  "language_info": {
   "codemirror_mode": {
    "name": "ipython",
    "version": 3
   },
   "file_extension": ".py",
   "mimetype": "text/x-python",
   "name": "python",
   "nbconvert_exporter": "python",
   "pygments_lexer": "ipython3",
   "version": "3.9.12"
  },
  "orig_nbformat": 4,
  "vscode": {
   "interpreter": {
    "hash": "6f92cb083152777afd62df578ee25c27a6535a458ee361b28317fcb89bd6b9a8"
   }
  }
 },
 "nbformat": 4,
 "nbformat_minor": 2
}
